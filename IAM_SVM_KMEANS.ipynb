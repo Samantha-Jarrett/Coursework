{
 "cells": [
  {
   "cell_type": "code",
   "execution_count": 1,
   "id": "382f2a0e",
   "metadata": {},
   "outputs": [
    {
     "name": "stdout",
     "output_type": "stream",
     "text": [
      "package 'kernlab' successfully unpacked and MD5 sums checked\n"
     ]
    },
    {
     "name": "stderr",
     "output_type": "stream",
     "text": [
      "Warning message:\n",
      "\"cannot remove prior installation of package 'kernlab'\"Warning message in file.copy(savedcopy, lib, recursive = TRUE):\n",
      "\"problem copying C:\\Users\\sjarr\\Anaconda3\\envs\\r_tutorial\\Lib\\R\\library\\00LOCK\\kernlab\\libs\\x64\\kernlab.dll to C:\\Users\\sjarr\\Anaconda3\\envs\\r_tutorial\\Lib\\R\\library\\kernlab\\libs\\x64\\kernlab.dll: Permission denied\"Warning message:\n",
      "\"restored 'kernlab'\""
     ]
    },
    {
     "name": "stdout",
     "output_type": "stream",
     "text": [
      "\n",
      "The downloaded binary packages are in\n",
      "\tC:\\Users\\sjarr\\AppData\\Local\\Temp\\RtmpMrsT2S\\downloaded_packages\n"
     ]
    }
   ],
   "source": [
    "# Set random seed to 42\n",
    "set.seed(42)\n",
    "\n",
    "# Install Package and Import Library\n",
    "install.packages(\"kernlab\")\n",
    "library(kernlab)"
   ]
  },
  {
   "cell_type": "code",
   "execution_count": 2,
   "id": "b915d8ed",
   "metadata": {},
   "outputs": [
    {
     "data": {
      "text/html": [
       "<table>\n",
       "<thead><tr><th scope=col>A1</th><th scope=col>A2</th><th scope=col>A3</th><th scope=col>A8</th><th scope=col>A9</th><th scope=col>A10</th><th scope=col>A11</th><th scope=col>A12</th><th scope=col>A14</th><th scope=col>A15</th><th scope=col>R1</th></tr></thead>\n",
       "<tbody>\n",
       "\t<tr><td>1    </td><td>30.83</td><td>0.000</td><td>1.25 </td><td>1    </td><td>0    </td><td>1    </td><td>1    </td><td>202  </td><td>  0  </td><td>1    </td></tr>\n",
       "\t<tr><td>0    </td><td>58.67</td><td>4.460</td><td>3.04 </td><td>1    </td><td>0    </td><td>6    </td><td>1    </td><td> 43  </td><td>560  </td><td>1    </td></tr>\n",
       "\t<tr><td>0    </td><td>24.50</td><td>0.500</td><td>1.50 </td><td>1    </td><td>1    </td><td>0    </td><td>1    </td><td>280  </td><td>824  </td><td>1    </td></tr>\n",
       "\t<tr><td>1    </td><td>27.83</td><td>1.540</td><td>3.75 </td><td>1    </td><td>0    </td><td>5    </td><td>0    </td><td>100  </td><td>  3  </td><td>1    </td></tr>\n",
       "\t<tr><td>1    </td><td>20.17</td><td>5.625</td><td>1.71 </td><td>1    </td><td>1    </td><td>0    </td><td>1    </td><td>120  </td><td>  0  </td><td>1    </td></tr>\n",
       "\t<tr><td>1    </td><td>32.08</td><td>4.000</td><td>2.50 </td><td>1    </td><td>1    </td><td>0    </td><td>0    </td><td>360  </td><td>  0  </td><td>1    </td></tr>\n",
       "</tbody>\n",
       "</table>\n"
      ],
      "text/latex": [
       "\\begin{tabular}{r|lllllllllll}\n",
       " A1 & A2 & A3 & A8 & A9 & A10 & A11 & A12 & A14 & A15 & R1\\\\\n",
       "\\hline\n",
       "\t 1     & 30.83 & 0.000 & 1.25  & 1     & 0     & 1     & 1     & 202   &   0   & 1    \\\\\n",
       "\t 0     & 58.67 & 4.460 & 3.04  & 1     & 0     & 6     & 1     &  43   & 560   & 1    \\\\\n",
       "\t 0     & 24.50 & 0.500 & 1.50  & 1     & 1     & 0     & 1     & 280   & 824   & 1    \\\\\n",
       "\t 1     & 27.83 & 1.540 & 3.75  & 1     & 0     & 5     & 0     & 100   &   3   & 1    \\\\\n",
       "\t 1     & 20.17 & 5.625 & 1.71  & 1     & 1     & 0     & 1     & 120   &   0   & 1    \\\\\n",
       "\t 1     & 32.08 & 4.000 & 2.50  & 1     & 1     & 0     & 0     & 360   &   0   & 1    \\\\\n",
       "\\end{tabular}\n"
      ],
      "text/markdown": [
       "\n",
       "| A1 | A2 | A3 | A8 | A9 | A10 | A11 | A12 | A14 | A15 | R1 |\n",
       "|---|---|---|---|---|---|---|---|---|---|---|\n",
       "| 1     | 30.83 | 0.000 | 1.25  | 1     | 0     | 1     | 1     | 202   |   0   | 1     |\n",
       "| 0     | 58.67 | 4.460 | 3.04  | 1     | 0     | 6     | 1     |  43   | 560   | 1     |\n",
       "| 0     | 24.50 | 0.500 | 1.50  | 1     | 1     | 0     | 1     | 280   | 824   | 1     |\n",
       "| 1     | 27.83 | 1.540 | 3.75  | 1     | 0     | 5     | 0     | 100   |   3   | 1     |\n",
       "| 1     | 20.17 | 5.625 | 1.71  | 1     | 1     | 0     | 1     | 120   |   0   | 1     |\n",
       "| 1     | 32.08 | 4.000 | 2.50  | 1     | 1     | 0     | 0     | 360   |   0   | 1     |\n",
       "\n"
      ],
      "text/plain": [
       "  A1 A2    A3    A8   A9 A10 A11 A12 A14 A15 R1\n",
       "1 1  30.83 0.000 1.25 1  0   1   1   202   0 1 \n",
       "2 0  58.67 4.460 3.04 1  0   6   1    43 560 1 \n",
       "3 0  24.50 0.500 1.50 1  1   0   1   280 824 1 \n",
       "4 1  27.83 1.540 3.75 1  0   5   0   100   3 1 \n",
       "5 1  20.17 5.625 1.71 1  1   0   1   120   0 1 \n",
       "6 1  32.08 4.000 2.50 1  1   0   0   360   0 1 "
      ]
     },
     "metadata": {},
     "output_type": "display_data"
    }
   ],
   "source": [
    "# Load the Dataset\n",
    "data <- read.table(\"credit_card_data-headers.txt\", \n",
    "                   stringsAsFactors=FALSE, \n",
    "                   header=TRUE)\n",
    "head(data)"
   ]
  },
  {
   "cell_type": "code",
   "execution_count": 3,
   "id": "a8514c89",
   "metadata": {},
   "outputs": [
    {
     "name": "stdout",
     "output_type": "stream",
     "text": [
      " Setting default kernel parameters  \n"
     ]
    }
   ],
   "source": [
    "# Apply KSVM model, scaling the data and using C=100\n",
    "model <- ksvm(R1~.,\n",
    "              data=data,\n",
    "              type=\"C-svc\",\n",
    "              kernel=\"vanilladot\",\n",
    "              C=100,\n",
    "              scaled=TRUE)\n",
    "\n",
    "# Use model to create predictions, find coefficients a and intercept a0\n",
    "pred <- predict(model,data[,1:10])\n",
    "a <- colSums(model@xmatrix[[1]] * model@coef[[1]])\n",
    "a0 <- - model@b"
   ]
  },
  {
   "cell_type": "code",
   "execution_count": 5,
   "id": "0251f53d",
   "metadata": {},
   "outputs": [
    {
     "data": {
      "text/plain": [
       "Support Vector Machine object of class \"ksvm\" \n",
       "\n",
       "SV type: C-svc  (classification) \n",
       " parameter : cost C = 100 \n",
       "\n",
       "Linear (vanilla) kernel function. \n",
       "\n",
       "Number of Support Vectors : 189 \n",
       "\n",
       "Objective Function Value : -17887.92 \n",
       "Training error : 0.136086 "
      ]
     },
     "metadata": {},
     "output_type": "display_data"
    },
    {
     "name": "stdout",
     "output_type": "stream",
     "text": [
      "[1] \" C: 100\"\n",
      "[1] \" Coefficients: \"\n"
     ]
    },
    {
     "data": {
      "text/html": [
       "<dl class=dl-horizontal>\n",
       "\t<dt>A1</dt>\n",
       "\t\t<dd>-0.00100653481057611</dd>\n",
       "\t<dt>A2</dt>\n",
       "\t\t<dd>-0.00117290480611665</dd>\n",
       "\t<dt>A3</dt>\n",
       "\t\t<dd>-0.00162619672236963</dd>\n",
       "\t<dt>A8</dt>\n",
       "\t\t<dd>0.0030064202649194</dd>\n",
       "\t<dt>A9</dt>\n",
       "\t\t<dd>1.00494056410556</dd>\n",
       "\t<dt>A10</dt>\n",
       "\t\t<dd>-0.00282594323043472</dd>\n",
       "\t<dt>A11</dt>\n",
       "\t\t<dd>0.000260029507016313</dd>\n",
       "\t<dt>A12</dt>\n",
       "\t\t<dd>-0.000534955143494997</dd>\n",
       "\t<dt>A14</dt>\n",
       "\t\t<dd>-0.00122837582291523</dd>\n",
       "\t<dt>A15</dt>\n",
       "\t\t<dd>0.106363399527188</dd>\n",
       "</dl>\n"
      ],
      "text/latex": [
       "\\begin{description*}\n",
       "\\item[A1] -0.00100653481057611\n",
       "\\item[A2] -0.00117290480611665\n",
       "\\item[A3] -0.00162619672236963\n",
       "\\item[A8] 0.0030064202649194\n",
       "\\item[A9] 1.00494056410556\n",
       "\\item[A10] -0.00282594323043472\n",
       "\\item[A11] 0.000260029507016313\n",
       "\\item[A12] -0.000534955143494997\n",
       "\\item[A14] -0.00122837582291523\n",
       "\\item[A15] 0.106363399527188\n",
       "\\end{description*}\n"
      ],
      "text/markdown": [
       "A1\n",
       ":   -0.00100653481057611A2\n",
       ":   -0.00117290480611665A3\n",
       ":   -0.00162619672236963A8\n",
       ":   0.0030064202649194A9\n",
       ":   1.00494056410556A10\n",
       ":   -0.00282594323043472A11\n",
       ":   0.000260029507016313A12\n",
       ":   -0.000534955143494997A14\n",
       ":   -0.00122837582291523A15\n",
       ":   0.106363399527188\n",
       "\n"
      ],
      "text/plain": [
       "           A1            A2            A3            A8            A9 \n",
       "-0.0010065348 -0.0011729048 -0.0016261967  0.0030064203  1.0049405641 \n",
       "          A10           A11           A12           A14           A15 \n",
       "-0.0028259432  0.0002600295 -0.0005349551 -0.0012283758  0.1063633995 "
      ]
     },
     "metadata": {},
     "output_type": "display_data"
    },
    {
     "name": "stdout",
     "output_type": "stream",
     "text": [
      "[1] \" A0: 0.081584921659538\"\n",
      "[1] \" Equation: 0 = -0.00100653481057611 x1 + -0.00117290480611665 x2 + -0.00162619672236963 x3 + 0.0030064202649194 x8 + 1.00494056410556 x9 + -0.00282594323043472 x10 + 0.000260029507016313 x11 + -0.000534955143494997 x12 + -0.00122837582291523 x14 + 0.106363399527188 x15 + 0.081584921659538\"\n",
      "[1] \" Accuracy: 0.863914373088685\"\n"
     ]
    }
   ],
   "source": [
    "model\n",
    "print(' C: 100')\n",
    "print(' Coefficients: ')\n",
    "a\n",
    "print(paste0(' A0: ', a0))\n",
    "print(paste0(' Equation: 0 = ', a[1], ' x1 + ', a[2], ' x2 + ', a[3], ' x3 + ', a[4], ' x8 + ',\n",
    "             a[5], ' x9 + ', a[6], ' x10 + ', a[7], ' x11 + ', a[8], ' x12 + ', a[9], ' x14 + ', a[10], ' x15 + ', a0))\n",
    "print(paste0(' Accuracy: ', sum(pred == data[,11]) / nrow(data)))"
   ]
  },
  {
   "cell_type": "markdown",
   "id": "7f32a948",
   "metadata": {},
   "source": [
    "**Try the same model without scaling the data**"
   ]
  },
  {
   "cell_type": "code",
   "execution_count": 6,
   "id": "49f78ddd",
   "metadata": {},
   "outputs": [
    {
     "name": "stdout",
     "output_type": "stream",
     "text": [
      " Setting default kernel parameters  \n"
     ]
    }
   ],
   "source": [
    "# Apply KSVM model, without scaling the data and using C=100\n",
    "model <- ksvm(R1~.,\n",
    "              data=data,\n",
    "              type=\"C-svc\",\n",
    "              kernel=\"vanilladot\",\n",
    "              C=100,\n",
    "              scaled=FALSE)\n",
    "\n",
    "# Use model to create predictions, find coefficients a and intercept a0\n",
    "pred <- predict(model,data[,1:10])\n",
    "a <- colSums(model@xmatrix[[1]] * model@coef[[1]])\n",
    "a0 <- - model@b"
   ]
  },
  {
   "cell_type": "code",
   "execution_count": 8,
   "id": "ea71d22b",
   "metadata": {},
   "outputs": [
    {
     "data": {
      "text/plain": [
       "Support Vector Machine object of class \"ksvm\" \n",
       "\n",
       "SV type: C-svc  (classification) \n",
       " parameter : cost C = 100 \n",
       "\n",
       "Linear (vanilla) kernel function. \n",
       "\n",
       "Number of Support Vectors : 186 \n",
       "\n",
       "Objective Function Value : -2213.731 \n",
       "Training error : 0.278287 "
      ]
     },
     "metadata": {},
     "output_type": "display_data"
    },
    {
     "name": "stdout",
     "output_type": "stream",
     "text": [
      "[1] \" C: 100 \"\n",
      "[1] \" Coefficients: \"\n"
     ]
    },
    {
     "data": {
      "text/html": [
       "<dl class=dl-horizontal>\n",
       "\t<dt>A1</dt>\n",
       "\t\t<dd>-0.0483050561351308</dd>\n",
       "\t<dt>A2</dt>\n",
       "\t\t<dd>-0.00831484725888409</dd>\n",
       "\t<dt>A3</dt>\n",
       "\t\t<dd>-0.0836550114494358</dd>\n",
       "\t<dt>A8</dt>\n",
       "\t\t<dd>0.175112127144588</dd>\n",
       "\t<dt>A9</dt>\n",
       "\t\t<dd>1.82548445468613</dd>\n",
       "\t<dt>A10</dt>\n",
       "\t\t<dd>0.276367336076882</dd>\n",
       "\t<dt>A11</dt>\n",
       "\t\t<dd>0.065478241381641</dd>\n",
       "\t<dt>A12</dt>\n",
       "\t\t<dd>-0.110821116927987</dd>\n",
       "\t<dt>A14</dt>\n",
       "\t\t<dd>-0.00472296531887966</dd>\n",
       "\t<dt>A15</dt>\n",
       "\t\t<dd>-0.000776496201837552</dd>\n",
       "</dl>\n"
      ],
      "text/latex": [
       "\\begin{description*}\n",
       "\\item[A1] -0.0483050561351308\n",
       "\\item[A2] -0.00831484725888409\n",
       "\\item[A3] -0.0836550114494358\n",
       "\\item[A8] 0.175112127144588\n",
       "\\item[A9] 1.82548445468613\n",
       "\\item[A10] 0.276367336076882\n",
       "\\item[A11] 0.065478241381641\n",
       "\\item[A12] -0.110821116927987\n",
       "\\item[A14] -0.00472296531887966\n",
       "\\item[A15] -0.000776496201837552\n",
       "\\end{description*}\n"
      ],
      "text/markdown": [
       "A1\n",
       ":   -0.0483050561351308A2\n",
       ":   -0.00831484725888409A3\n",
       ":   -0.0836550114494358A8\n",
       ":   0.175112127144588A9\n",
       ":   1.82548445468613A10\n",
       ":   0.276367336076882A11\n",
       ":   0.065478241381641A12\n",
       ":   -0.110821116927987A14\n",
       ":   -0.00472296531887966A15\n",
       ":   -0.000776496201837552\n",
       "\n"
      ],
      "text/plain": [
       "           A1            A2            A3            A8            A9 \n",
       "-0.0483050561 -0.0083148473 -0.0836550114  0.1751121271  1.8254844547 \n",
       "          A10           A11           A12           A14           A15 \n",
       " 0.2763673361  0.0654782414 -0.1108211169 -0.0047229653 -0.0007764962 "
      ]
     },
     "metadata": {},
     "output_type": "display_data"
    },
    {
     "name": "stdout",
     "output_type": "stream",
     "text": [
      "[1] \" A0: 0.525539327910409\"\n",
      "[1] \" Accuracy: 0.7217125382263\"\n"
     ]
    }
   ],
   "source": [
    "model\n",
    "print(' C: 100 ')\n",
    "print(' Coefficients: ')\n",
    "a\n",
    "print(paste0(' A0: ', a0))\n",
    "print(paste0(' Accuracy: ', sum(pred == data[,11]) / nrow(data)))"
   ]
  },
  {
   "cell_type": "markdown",
   "id": "fb99d735",
   "metadata": {},
   "source": [
    "**Discussion:**\n",
    "Scaling the data resulted in higher accuracy in the model's predictions (scaled: 0.86, not scaled: 0.52). The coefficients, _a_, and intercept, _a0_ are very different between the two models. In this scenario, scaling the data improves the model's ability to make accurate predictions."
   ]
  },
  {
   "cell_type": "markdown",
   "id": "dee3481a",
   "metadata": {},
   "source": [
    "**Try Different Values of C**"
   ]
  },
  {
   "cell_type": "code",
   "execution_count": 9,
   "id": "c38b2ae0",
   "metadata": {},
   "outputs": [],
   "source": [
    "# Create a list of c values\n",
    "c_vals <- c(1e-8, 1e-4, 10, 1e4, 1e8)\n",
    "acc <- list()"
   ]
  },
  {
   "cell_type": "code",
   "execution_count": 10,
   "id": "1f35a1f5",
   "metadata": {},
   "outputs": [
    {
     "name": "stdout",
     "output_type": "stream",
     "text": [
      " Setting default kernel parameters  \n",
      " Setting default kernel parameters  \n",
      " Setting default kernel parameters  \n",
      " Setting default kernel parameters  \n",
      " Setting default kernel parameters  \n"
     ]
    }
   ],
   "source": [
    "# Train model and make predictions for each value of C\n",
    "for (c_val in c_vals){\n",
    "  model <- ksvm(R1~.,\n",
    "                data=data,\n",
    "                type=\"C-svc\",\n",
    "                kernel=\"vanilladot\",\n",
    "                C=c_val,\n",
    "                scaled=TRUE)\n",
    "    \n",
    "  pred <- predict(model,data[,1:10])\n",
    "  accuracy <- sum(pred == data[,11]) / nrow(data)\n",
    "  acc <- append(acc, accuracy)\n",
    "}"
   ]
  },
  {
   "cell_type": "code",
   "execution_count": 11,
   "id": "c9b516d5",
   "metadata": {},
   "outputs": [
    {
     "name": "stdout",
     "output_type": "stream",
     "text": [
      "[1] \" C: 1e-08  Accuracy: 0.547400611620795\"\n",
      "[1] \" C: 1e-04  Accuracy: 0.547400611620795\"\n",
      "[1] \" C: 10  Accuracy: 0.863914373088685\"\n",
      "[1] \" C: 10000  Accuracy: 0.862385321100917\"\n",
      "[1] \" C: 1e+08  Accuracy: 0.663608562691132\"\n"
     ]
    }
   ],
   "source": [
    "for (i in 1:length(c_vals)) {\n",
    "    print(paste0(' C: ', c_vals[i], '  Accuracy: ', acc[i]))\n",
    "}"
   ]
  },
  {
   "cell_type": "markdown",
   "id": "5033155e",
   "metadata": {},
   "source": [
    "**Discussion:** Extremely low values of C produced much lower accuracy values (0.54 for 1e-8 and 1e-4). The accuracy of the model did not change between using a C value of 1e-8 and 1e-4. The C values of 10 and 1e4 produced an accuracy of 0.86, which is the same as the model using a C value of 100 explored in the previous section. Finally, when C was set to 1e8, the accuracy was 0.66, higher than the extremely low C values, but lower than the values of 10 and 1e4.\n",
    "\n",
    "**Takeaway:** The model performed best with C values 10 to 1e4. Choosing a C value at the lower end of this ranger is favorable to give a larger margin for later test predictions."
   ]
  },
  {
   "cell_type": "markdown",
   "id": "59314d9d",
   "metadata": {},
   "source": [
    "**Try Different Kernels**"
   ]
  },
  {
   "cell_type": "code",
   "execution_count": 12,
   "id": "57ca71f8",
   "metadata": {},
   "outputs": [],
   "source": [
    "# Create a list of kernels\n",
    "kernels <- c('rbfdot', 'polydot', 'vanilladot', 'tanhdot', 'laplacedot', 'besseldot', 'anovadot', 'splinedot')\n",
    "acc <- list()"
   ]
  },
  {
   "cell_type": "code",
   "execution_count": 13,
   "id": "bb51f099",
   "metadata": {},
   "outputs": [
    {
     "name": "stdout",
     "output_type": "stream",
     "text": [
      " Setting default kernel parameters  \n",
      " Setting default kernel parameters  \n",
      " Setting default kernel parameters  \n",
      " Setting default kernel parameters  \n",
      " Setting default kernel parameters  \n",
      " Setting default kernel parameters  \n"
     ]
    }
   ],
   "source": [
    "# Train model and make predictions using each kernel\n",
    "for (k in kernels){\n",
    "  model <- ksvm(R1~.,\n",
    "                data=data,\n",
    "                type=\"C-svc\",\n",
    "                kernel=k,\n",
    "                C=100,\n",
    "                scaled=TRUE)\n",
    "    \n",
    "  pred <- predict(model,data[,1:10])\n",
    "  accuracy <- sum(pred == data[,11]) / nrow(data)\n",
    "  acc <- append(acc, accuracy)\n",
    "}"
   ]
  },
  {
   "cell_type": "code",
   "execution_count": 14,
   "id": "e4e0ec2a",
   "metadata": {},
   "outputs": [
    {
     "name": "stdout",
     "output_type": "stream",
     "text": [
      "[1] \" Kernel: rbfdot  Accuracy: 0.957186544342508\"\n",
      "[1] \" Kernel: polydot  Accuracy: 0.863914373088685\"\n",
      "[1] \" Kernel: vanilladot  Accuracy: 0.863914373088685\"\n",
      "[1] \" Kernel: tanhdot  Accuracy: 0.7217125382263\"\n",
      "[1] \" Kernel: laplacedot  Accuracy: 1\"\n",
      "[1] \" Kernel: besseldot  Accuracy: 0.925076452599388\"\n",
      "[1] \" Kernel: anovadot  Accuracy: 0.906727828746177\"\n",
      "[1] \" Kernel: splinedot  Accuracy: 0.978593272171254\"\n"
     ]
    }
   ],
   "source": [
    "for (i in 1:length(kernels)) {\n",
    "    print(paste0(' Kernel: ', kernels[i], '  Accuracy: ', acc[i]))\n",
    "}"
   ]
  },
  {
   "cell_type": "markdown",
   "id": "60523787",
   "metadata": {},
   "source": [
    "**Discussion:** Using a c value of 100, as determined previously, different kernels were tested. The best performing kernels, rbfdot (0.95), splinedot (0.97), and laplacedot (1.00) performed better than the linear vanilladot kernel (0.86) originally used. It is suspicious that these three kernels produced such high accuracy. This may be due to the use of training the entire data set and not using a training and testing set, resulting in overfitting.\n",
    "\n",
    "**Takeaway:** The model performed best at C=100 using the laplacedot kernel, but is probably an overfitted model. There are caveats since the data was not split into train and test sets."
   ]
  },
  {
   "cell_type": "markdown",
   "id": "dc09a30a",
   "metadata": {},
   "source": [
    "**Try k-nearest neighbors and check multiple values of k**"
   ]
  },
  {
   "cell_type": "code",
   "execution_count": 15,
   "id": "e00e0d2d",
   "metadata": {},
   "outputs": [
    {
     "name": "stdout",
     "output_type": "stream",
     "text": [
      "package 'kknn' successfully unpacked and MD5 sums checked\n",
      "\n",
      "The downloaded binary packages are in\n",
      "\tC:\\Users\\sjarr\\AppData\\Local\\Temp\\RtmpMrsT2S\\downloaded_packages\n"
     ]
    },
    {
     "name": "stderr",
     "output_type": "stream",
     "text": [
      "Warning message:\n",
      "\"package 'kknn' was built under R version 3.6.3\""
     ]
    }
   ],
   "source": [
    "# Install Package and Import Library\n",
    "install.packages(\"kknn\")\n",
    "library(kknn)"
   ]
  },
  {
   "cell_type": "code",
   "execution_count": 17,
   "id": "a3ab6b50",
   "metadata": {},
   "outputs": [
    {
     "name": "stdout",
     "output_type": "stream",
     "text": [
      " [1]  1  2  3  4  5  6  7  8  9 10 11 12 13 14 15 16 17 18 19 20\n"
     ]
    }
   ],
   "source": [
    "# Create a list of potential k values\n",
    "k_vals <- c(1:20)\n",
    "print(k_vals)"
   ]
  },
  {
   "cell_type": "code",
   "execution_count": 18,
   "id": "990d4429",
   "metadata": {},
   "outputs": [
    {
     "name": "stdout",
     "output_type": "stream",
     "text": [
      "[1] \" K: 1  Accuracy: 0.814984709480122\"\n",
      "[1] \" K: 2  Accuracy: 0.785932721712538\"\n",
      "[1] \" K: 3  Accuracy: 0.767584097859327\"\n",
      "[1] \" K: 4  Accuracy: 0.741590214067278\"\n",
      "[1] \" K: 5  Accuracy: 0.717125382262997\"\n",
      "[1] \" K: 6  Accuracy: 0.700305810397553\"\n",
      "[1] \" K: 7  Accuracy: 0.685015290519878\"\n",
      "[1] \" K: 8  Accuracy: 0.67737003058104\"\n",
      "[1] \" K: 9  Accuracy: 0.665137614678899\"\n",
      "[1] \" K: 10  Accuracy: 0.662079510703364\"\n",
      "[1] \" K: 11  Accuracy: 0.654434250764526\"\n",
      "[1] \" K: 12  Accuracy: 0.645259938837921\"\n",
      "[1] \" K: 13  Accuracy: 0.636085626911315\"\n",
      "[1] \" K: 14  Accuracy: 0.631498470948012\"\n",
      "[1] \" K: 15  Accuracy: 0.623853211009174\"\n",
      "[1] \" K: 16  Accuracy: 0.619266055045872\"\n",
      "[1] \" K: 17  Accuracy: 0.603975535168196\"\n",
      "[1] \" K: 18  Accuracy: 0.596330275229358\"\n",
      "[1] \" K: 19  Accuracy: 0.58868501529052\"\n",
      "[1] \" K: 20  Accuracy: 0.584097859327217\"\n"
     ]
    }
   ],
   "source": [
    "# Model using rectangular kernel\n",
    "for (k_val in k_vals){\n",
    "    pred <- list()\n",
    "\n",
    "    for (i in 1:nrow(data)){\n",
    "        model <- kknn(R1~., \n",
    "                      data[-i,], \n",
    "                      data[i,], \n",
    "                      k=k_val,\n",
    "                      distance=2, \n",
    "                      kernel=\"rectangular\",\n",
    "                      scale = TRUE)\n",
    "        \n",
    "        pred[i] <- fitted(model)\n",
    "      }\n",
    "    acc = sum(pred == data[,11]) / nrow(data)\n",
    "    print(paste0(' K: ', k_val, '  Accuracy: ', acc)) \n",
    "}"
   ]
  },
  {
   "cell_type": "markdown",
   "id": "83aed9c0",
   "metadata": {},
   "source": [
    "**Try a different kernel**"
   ]
  },
  {
   "cell_type": "code",
   "execution_count": 19,
   "id": "f24e63b6",
   "metadata": {},
   "outputs": [
    {
     "name": "stdout",
     "output_type": "stream",
     "text": [
      "[1] \" K: 1  Accuracy: 0.814984709480122\"\n",
      "[1] \" K: 2  Accuracy: 0.785932721712538\"\n",
      "[1] \" K: 3  Accuracy: 0.767584097859327\"\n",
      "[1] \" K: 4  Accuracy: 0.741590214067278\"\n",
      "[1] \" K: 5  Accuracy: 0.717125382262997\"\n",
      "[1] \" K: 6  Accuracy: 0.700305810397553\"\n",
      "[1] \" K: 7  Accuracy: 0.685015290519878\"\n",
      "[1] \" K: 8  Accuracy: 0.67737003058104\"\n",
      "[1] \" K: 9  Accuracy: 0.665137614678899\"\n",
      "[1] \" K: 10  Accuracy: 0.662079510703364\"\n",
      "[1] \" K: 11  Accuracy: 0.654434250764526\"\n",
      "[1] \" K: 12  Accuracy: 0.645259938837921\"\n",
      "[1] \" K: 13  Accuracy: 0.636085626911315\"\n",
      "[1] \" K: 14  Accuracy: 0.631498470948012\"\n",
      "[1] \" K: 15  Accuracy: 0.623853211009174\"\n",
      "[1] \" K: 16  Accuracy: 0.619266055045872\"\n",
      "[1] \" K: 17  Accuracy: 0.603975535168196\"\n",
      "[1] \" K: 18  Accuracy: 0.596330275229358\"\n",
      "[1] \" K: 19  Accuracy: 0.58868501529052\"\n",
      "[1] \" K: 20  Accuracy: 0.584097859327217\"\n"
     ]
    }
   ],
   "source": [
    "# Model using optimal kernel\n",
    "for (k_val in k_vals){\n",
    "    pred <- list()\n",
    "\n",
    "    for (i in 1:nrow(data)){\n",
    "        model <- kknn(R1~., \n",
    "                      data[-i,], \n",
    "                      data[i,], \n",
    "                      k=k_val,\n",
    "                      distance=2, \n",
    "                      kernel=\"optimal\",\n",
    "                      scale = TRUE)\n",
    "        \n",
    "        pred[i] <- fitted(model)\n",
    "      }\n",
    "    acc = sum(pred == data[,11]) / nrow(data)\n",
    "    print(paste0(' K: ', k_val, '  Accuracy: ', acc)) \n",
    "}"
   ]
  },
  {
   "cell_type": "markdown",
   "id": "fbfdeeb4",
   "metadata": {},
   "source": [
    "**Discussion:** As the k values (number of nearest neighbors) increased, the accuracy decreased. The highest accuracy was using one k nearest neighbor. However, using one neighbor is not realistic and does not provide a margin for future predictions. K valus from 2-5 provide the best results.\n",
    "\n",
    "Two different kernels were tested, rectangular and optimal. The rectangular model attributes an even 'vote' between the neighbors closest to the point. The optimal kernel weights points closer to the point higher. The accuracies were same between using the two kernels, potentially indicating a more even spread of data."
   ]
  }
 ],
 "metadata": {
  "kernelspec": {
   "display_name": "R",
   "language": "R",
   "name": "ir"
  },
  "language_info": {
   "codemirror_mode": "r",
   "file_extension": ".r",
   "mimetype": "text/x-r-source",
   "name": "R",
   "pygments_lexer": "r",
   "version": "3.6.1"
  }
 },
 "nbformat": 4,
 "nbformat_minor": 5
}
